{
  "nbformat": 4,
  "nbformat_minor": 0,
  "metadata": {
    "colab": {
      "provenance": []
    },
    "kernelspec": {
      "name": "python3",
      "display_name": "Python 3"
    },
    "language_info": {
      "name": "python"
    }
  },
  "cells": [
    {
      "cell_type": "markdown",
      "source": [
        "#Importing Libraries"
      ],
      "metadata": {
        "id": "BOUnDaNUWT-k"
      }
    },
    {
      "cell_type": "code",
      "execution_count": 27,
      "metadata": {
        "id": "BoT75hoWCmva"
      },
      "outputs": [],
      "source": [
        "import numpy as np\n",
        "import matplotlib.pyplot as plt\n",
        "import pandas as pd"
      ]
    },
    {
      "cell_type": "markdown",
      "source": [
        "#Importing the datset"
      ],
      "metadata": {
        "id": "QIu-50wLWhao"
      }
    },
    {
      "cell_type": "code",
      "source": [
        "dataset= pd.read_csv('Position_Salaries.csv')\n",
        "X= dataset.iloc[:, 1:-1].values\n",
        "y= dataset.iloc[:, -1].values"
      ],
      "metadata": {
        "id": "edfeX5kJWgK9"
      },
      "execution_count": 28,
      "outputs": []
    },
    {
      "cell_type": "markdown",
      "source": [
        "#Training linear regression model on the whole dataset"
      ],
      "metadata": {
        "id": "vhYX--RaXf_y"
      }
    },
    {
      "cell_type": "code",
      "source": [
        "from sklearn.linear_model import LinearRegression\n",
        "lin_reg= LinearRegression()\n",
        "lin_reg.fit(X, y)"
      ],
      "metadata": {
        "colab": {
          "base_uri": "https://localhost:8080/"
        },
        "id": "2ppd4EBMW5KN",
        "outputId": "e4cd85da-31d1-4460-a644-a2d5bc19f178"
      },
      "execution_count": 29,
      "outputs": [
        {
          "output_type": "execute_result",
          "data": {
            "text/plain": [
              "LinearRegression()"
            ]
          },
          "metadata": {},
          "execution_count": 29
        }
      ]
    },
    {
      "cell_type": "markdown",
      "source": [
        "# Training polynomial regression model on the whole dataset"
      ],
      "metadata": {
        "id": "SlpWuILjYB7Z"
      }
    },
    {
      "cell_type": "code",
      "source": [
        "from sklearn.preprocessing import PolynomialFeatures\n",
        "poly_reg= PolynomialFeatures(degree=2)\n",
        "X_poly= poly_reg.fit_transform(X)\n",
        "lin_reg_2= LinearRegression()\n",
        "lin_reg_2.fit(X_poly, y)"
      ],
      "metadata": {
        "colab": {
          "base_uri": "https://localhost:8080/"
        },
        "id": "-HmhbFv3X846",
        "outputId": "4c86cf92-f68e-46dc-9c93-308066625ce7"
      },
      "execution_count": 30,
      "outputs": [
        {
          "output_type": "execute_result",
          "data": {
            "text/plain": [
              "LinearRegression()"
            ]
          },
          "metadata": {},
          "execution_count": 30
        }
      ]
    },
    {
      "cell_type": "markdown",
      "source": [
        "#Visualising Linear Regression Results"
      ],
      "metadata": {
        "id": "nIAng6VMZi3F"
      }
    },
    {
      "cell_type": "code",
      "source": [
        "plt.scatter(X, y, color= 'red')\n",
        "plt.plot(X, lin_reg.predict(X), color= 'blue')\n",
        "plt.title('Performance of Linear Regression')\n",
        "plt.xlabel('Position')\n",
        "plt.ylabel('Salary')\n",
        "plt.show()"
      ],
      "metadata": {
        "colab": {
          "base_uri": "https://localhost:8080/",
          "height": 295
        },
        "id": "2t537z_TZb-q",
        "outputId": "d590693b-b580-4726-fa3d-c38c5c317e96"
      },
      "execution_count": 31,
      "outputs": [
        {
          "output_type": "display_data",
          "data": {
            "text/plain": [
              "<Figure size 432x288 with 1 Axes>"
            ],
            "image/png": "[encoded data removed]"
          },
          "metadata": {
            "needs_background": "light"
          }
        }
      ]
    },
    {
      "cell_type": "markdown",
      "source": [
        "#Visualising Polynomial Regression Results"
      ],
      "metadata": {
        "id": "fqe4zJFuaQHZ"
      }
    },
    {
      "cell_type": "code",
      "source": [
        "plt.scatter(X, y, color= 'red')\n",
        "plt.plot(X, lin_reg_2.predict(X_poly), color= 'blue')\n",
        "plt.title('Performance of Polynomial Regression')\n",
        "plt.xlabel('Position')\n",
        "plt.ylabel('Salary')\n",
        "plt.show()"
      ],
      "metadata": {
        "colab": {
          "base_uri": "https://localhost:8080/",
          "height": 295
        },
        "id": "DMR-3of7aT23",
        "outputId": "c8d6dea1-c051-40ed-f19c-ee8b2671b8b4"
      },
      "execution_count": 32,
      "outputs": [
        {
          "output_type": "display_data",
          "data": {
            "text/plain": [
              "<Figure size 432x288 with 1 Axes>"
            ],
            "image/png": "[encoded data removed]"
          },
          "metadata": {
            "needs_background": "light"
          }
        }
      ]
    },
    {
      "cell_type": "markdown",
      "source": [
        "# "
      ],
      "metadata": {
        "id": "CxHqcNfHalmf"
      }
    },
    {
      "cell_type": "markdown",
      "source": [
        "#Predicting using linear regression"
      ],
      "metadata": {
        "id": "lMNTkK93cC7S"
      }
    },
    {
      "cell_type": "code",
      "source": [
        "y_pred_lin= lin_reg.predict([[6.5]])\n",
        "print(y_pred_lin)"
      ],
      "metadata": {
        "colab": {
          "base_uri": "https://localhost:8080/"
        },
        "id": "gDT_q79Pal9F",
        "outputId": "11933dec-1430-482d-9ee9-7d63ebd3a6cc"
      },
      "execution_count": 34,
      "outputs": [
        {
          "output_type": "stream",
          "name": "stdout",
          "text": [
            "[330378.78787879]\n"
          ]
        }
      ]
    },
    {
      "cell_type": "markdown",
      "source": [
        "#Predicting using polynomial regression"
      ],
      "metadata": {
        "id": "GA7l6CeLcF_A"
      }
    },
    {
      "cell_type": "code",
      "source": [
        "y_pred_poly= lin_reg_2.predict(poly_reg.fit_transform([[6.5]]))\n",
        "print(y_pred_poly)"
      ],
      "metadata": {
        "colab": {
          "base_uri": "https://localhost:8080/"
        },
        "id": "L_xBobG9cKnh",
        "outputId": "a7adcaa7-f77f-4e45-cfd5-ce1676523ca4"
      },
      "execution_count": 36,
      "outputs": [
        {
          "output_type": "stream",
          "name": "stdout",
          "text": [
            "[189498.10606061]\n"
          ]
        }
      ]
    }
  ]
}