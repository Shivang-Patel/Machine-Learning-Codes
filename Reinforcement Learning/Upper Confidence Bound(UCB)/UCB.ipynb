{
  "nbformat": 4,
  "nbformat_minor": 0,
  "metadata": {
    "colab": {
      "provenance": []
    },
    "kernelspec": {
      "name": "python3",
      "display_name": "Python 3"
    },
    "language_info": {
      "name": "python"
    }
  },
  "cells": [
    {
      "cell_type": "markdown",
      "source": [],
      "metadata": {
        "id": "Ubej82RXTfza"
      }
    },
    {
      "cell_type": "markdown",
      "source": [
        "#Importing Libraries"
      ],
      "metadata": {
        "id": "QWFpsEvxTimH"
      }
    },
    {
      "cell_type": "code",
      "source": [
        "import numpy as np\n",
        "import matplotlib.pyplot as plt\n",
        "import pandas as pd"
      ],
      "metadata": {
        "id": "BxJu9YDJThMF"
      },
      "execution_count": 1,
      "outputs": []
    },
    {
      "cell_type": "markdown",
      "source": [
        "#Importing dataset"
      ],
      "metadata": {
        "id": "GxyYpUpfTlZ3"
      }
    },
    {
      "cell_type": "code",
      "execution_count": 2,
      "metadata": {
        "id": "wRyjdDqZTfI6"
      },
      "outputs": [],
      "source": [
        "dataset= pd.read_csv('Ads_CTR_Optimisation.csv')"
      ]
    },
    {
      "cell_type": "markdown",
      "source": [
        "#Implementing UCB"
      ],
      "metadata": {
        "id": "UuGlBmJQTpAU"
      }
    },
    {
      "cell_type": "code",
      "source": [
        "import math\n",
        "N=10000\n",
        "d=10\n",
        "ads_selected=[]\n",
        "numbers_of_selections=[0]*d\n",
        "sum_of_rewards=[0]*d\n",
        "total_reward=0\n",
        "for n in range(0, N):\n",
        "  ad=0\n",
        "  max_upper_bound=0\n",
        "  for i in range(0, d):\n",
        "    if numbers_of_selections[i] > 0:\n",
        "      average_reward= sum_of_rewards[i]/numbers_of_selections[i]\n",
        "      delta_i= math.sqrt((3/2)*math.log(n+1)/numbers_of_selections[i])\n",
        "      upper_bound= average_reward+delta_i\n",
        "    else:\n",
        "      upper_bound=1e400\n",
        "    if upper_bound> max_upper_bound:\n",
        "      max_upper_bound=upper_bound\n",
        "      ad=i\n",
        "  ads_selected.append(ad)\n",
        "  numbers_of_selections[ad]= numbers_of_selections[ad]+1\n",
        "  reward=dataset.values[n,ad]\n",
        "  sum_of_rewards[ad]= sum_of_rewards[ad]+reward\n",
        "  total_reward=total_reward+reward"
      ],
      "metadata": {
        "id": "bdpMH79DTqd_"
      },
      "execution_count": 3,
      "outputs": []
    },
    {
      "cell_type": "markdown",
      "source": [
        "#Visualising result"
      ],
      "metadata": {
        "id": "6dxcuZ4tTrA7"
      }
    },
    {
      "cell_type": "code",
      "source": [
        "plt.hist(ads_selected)\n",
        "plt.title('Histogram of ads selection')\n",
        "plt.xlabel('Ads')\n",
        "plt.ylabel('No. of tims selected')"
      ],
      "metadata": {
        "colab": {
          "base_uri": "https://localhost:8080/",
          "height": 313
        },
        "id": "wKecQJnyTsWl",
        "outputId": "31303705-598c-423c-9d0e-2d3f15737875"
      },
      "execution_count": 4,
      "outputs": [
        {
          "output_type": "execute_result",
          "data": {
            "text/plain": [
              "Text(0, 0.5, 'No. of tims selected')"
            ]
          },
          "metadata": {},
          "execution_count": 4
        },
        {
          "output_type": "display_data",
          "data": {
            "text/plain": [
              "<Figure size 432x288 with 1 Axes>"
            ],
            "image/png": "[encoded data removed]"
          },
          "metadata": {
            "needs_background": "light"
          }
        }
      ]
    }
  ]
}