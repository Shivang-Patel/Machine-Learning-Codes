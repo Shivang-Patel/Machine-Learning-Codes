{
  "nbformat": 4,
  "nbformat_minor": 0,
  "metadata": {
    "colab": {
      "provenance": []
    },
    "kernelspec": {
      "name": "python3",
      "display_name": "Python 3"
    },
    "language_info": {
      "name": "python"
    }
  },
  "cells": [
    {
      "cell_type": "markdown",
      "source": [
        "#Importing Libraries"
      ],
      "metadata": {
        "id": "QWFpsEvxTimH"
      }
    },
    {
      "cell_type": "code",
      "source": [
        "import numpy as np\n",
        "import matplotlib.pyplot as plt\n",
        "import pandas as pd"
      ],
      "metadata": {
        "id": "BxJu9YDJThMF"
      },
      "execution_count": 1,
      "outputs": []
    },
    {
      "cell_type": "markdown",
      "source": [
        "#Importing dataset"
      ],
      "metadata": {
        "id": "GxyYpUpfTlZ3"
      }
    },
    {
      "cell_type": "code",
      "execution_count": 3,
      "metadata": {
        "id": "wRyjdDqZTfI6"
      },
      "outputs": [],
      "source": [
        "dataset= pd.read_csv('Ads_CTR_Optimisation.csv')"
      ]
    },
    {
      "cell_type": "markdown",
      "source": [
        "#Implementing UCB"
      ],
      "metadata": {
        "id": "UuGlBmJQTpAU"
      }
    },
    {
      "cell_type": "code",
      "source": [
        "import random\n",
        "N=10000\n",
        "d=10\n",
        "ads_selected=[]\n",
        "numbers_of_rewards_1=[0]*d\n",
        "numbers_of_rewards_0=[0]*d\n",
        "total_reward=0\n",
        "for n in range(0, N):\n",
        "  ad=0\n",
        "  max_random=0\n",
        "  for i in  range(0, d):\n",
        "    random_beta= random.betavariate(numbers_of_rewards_1[i]+1, numbers_of_rewards_0[i]+1)\n",
        "    if(random_beta>max_random):\n",
        "      max_random=random_beta\n",
        "      ad=i\n",
        "  ads_selected.append(ad)\n",
        "  reward= dataset.values[n, ad]\n",
        "  numbers_of_rewards_1[ad]=numbers_of_rewards_1[ad]+1\n",
        "  if reward==1:\n",
        "    numbers_of_rewards_1[ad]=numbers_of_rewards_1[ad]+1\n",
        "  else:\n",
        "    numbers_of_rewards_0[ad]=numbers_of_rewards_0[ad]+1\n",
        "  total_reward= total_reward + reward"
      ],
      "metadata": {
        "id": "bdpMH79DTqd_"
      },
      "execution_count": 5,
      "outputs": []
    },
    {
      "cell_type": "markdown",
      "source": [
        "#Visualising result"
      ],
      "metadata": {
        "id": "6dxcuZ4tTrA7"
      }
    },
    {
      "cell_type": "code",
      "source": [
        "plt.hist(ads_selected)\n",
        "plt.title('Histogram of ads selection')\n",
        "plt.xlabel('Ads')\n",
        "plt.ylabel('No. of tims selected')"
      ],
      "metadata": {
        "colab": {
          "base_uri": "https://localhost:8080/",
          "height": 313
        },
        "id": "wKecQJnyTsWl",
        "outputId": "f50bab2e-d5a2-48b5-da8c-51e448f02cdf"
      },
      "execution_count": 6,
      "outputs": [
        {
          "output_type": "execute_result",
          "data": {
            "text/plain": [
              "Text(0, 0.5, 'No. of tims selected')"
            ]
          },
          "metadata": {},
          "execution_count": 6
        },
        {
          "output_type": "display_data",
          "data": {
            "text/plain": [
              "<Figure size 432x288 with 1 Axes>"
            ],
            "image/png": "[encoded data removed]"
          },
          "metadata": {
            "needs_background": "light"
          }
        }
      ]
    }
  ]
}